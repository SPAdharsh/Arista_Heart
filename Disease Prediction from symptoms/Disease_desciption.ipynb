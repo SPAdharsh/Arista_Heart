{
 "cells": [
  {
   "cell_type": "code",
   "execution_count": 14,
   "metadata": {},
   "outputs": [],
   "source": [
    "jsonfile='symptom_description.json'\n",
    "csvfile='symptom_Description.csv'"
   ]
  },
  {
   "cell_type": "code",
   "execution_count": 15,
   "metadata": {},
   "outputs": [],
   "source": [
    "import json\n",
    "import csv"
   ]
  },
  {
   "cell_type": "code",
   "execution_count": 16,
   "metadata": {},
   "outputs": [],
   "source": [
    "disease_precaution_details={}\n",
    "data={}\n",
    "with open(csvfile,newline='') as csvfile:\n",
    "        reader = csv.DictReader(csvfile,dialect='excel')\n",
    "        for i in reader:\n",
    "            key=i['Disease']\n",
    "            data[key]=i\n",
    "with open(jsonfile, 'w', encoding='utf-8') as jsonf: \n",
    "        jsonf.write(json.dumps(data, indent=4))\n",
    "with open('symptom_description.json', 'r') as f:\n",
    "  disease_description=json.load(f) "
   ]
  },
  {
   "cell_type": "code",
   "execution_count": 17,
   "metadata": {},
   "outputs": [
    {
     "data": {
      "text/plain": [
       "{'Drug Reaction': {'Disease': 'Drug Reaction',\n",
       "  'Description': 'An adverse drug reaction (ADR) is an injury caused by taking medication. ADRs may occur following a single dose or prolonged administration of a drug or result from the combination of two or more drugs.'},\n",
       " 'Malaria': {'Disease': 'Malaria',\n",
       "  'Description': 'An infectious disease caused by protozoan parasites from the Plasmodium family that can be transmitted by the bite of the Anopheles mosquito or by a contaminated needle or transfusion. Falciparum malaria is the most deadly type.'},\n",
       " 'Allergy': {'Disease': 'Allergy',\n",
       "  'Description': \"An allergy is an immune system response to a foreign substance that's not typically harmful to your body.They can include certain foods, pollen, or pet dander. Your immune system's job is to keep you healthy by fighting harmful pathogens.\"},\n",
       " 'Hypothyroidism': {'Disease': 'Hypothyroidism',\n",
       "  'Description': 'Hypothyroidism, also called underactive thyroid or low thyroid, is a disorder of the endocrine system in which the thyroid gland does not produce enough thyroid hormone.'},\n",
       " 'Psoriasis': {'Disease': 'Psoriasis',\n",
       "  'Description': \"Psoriasis is a common skin disorder that forms thick, red, bumpy patches covered with silvery scales. They can pop up anywhere, but most appear on the scalp, elbows, knees, and lower back. Psoriasis can't be passed from person to person. It does sometimes happen in members of the same family.\"},\n",
       " 'GERD': {'Disease': 'GERD',\n",
       "  'Description': 'Gastroesophageal reflux disease, or GERD, is a digestive disorder that affects the lower esophageal sphincter (LES), the ring of muscle between the esophagus and stomach. Many people, including pregnant women, suffer from heartburn or acid indigestion caused by GERD.'},\n",
       " 'Chronic cholestasis': {'Disease': 'Chronic cholestasis',\n",
       "  'Description': 'Chronic cholestatic diseases, whether occurring in infancy, childhood or adulthood, are characterized by defective bile acid transport from the liver to the intestine, which is caused by primary damage to the biliary epithelium in most cases'},\n",
       " 'hepatitis A': {'Disease': 'hepatitis A',\n",
       "  'Description': \"Hepatitis A is a highly contagious liver infection caused by the hepatitis A virus. The virus is one of several types of hepatitis viruses that cause inflammation and affect your liver's ability to function.\"},\n",
       " 'Osteoarthristis': {'Disease': 'Osteoarthristis',\n",
       "  'Description': 'Osteoarthritis is the most common form of arthritis, affecting millions of people worldwide. It occurs when the protective cartilage that cushions the ends of your bones wears down over time.'},\n",
       " '(vertigo) Paroymsal  Positional Vertigo': {'Disease': '(vertigo) Paroymsal  Positional Vertigo',\n",
       "  'Description': \"Benign paroxysmal positional vertigo (BPPV) is one of the most common causes of vertigo â€” the sudden sensation that you're spinning or that the inside of your head is spinning. Benign paroxysmal positional vertigo causes brief episodes of mild to intense dizziness.\"},\n",
       " 'Hypoglycemia': {'Disease': 'Hypoglycemia',\n",
       "  'Description': \" Hypoglycemia is a condition in which your blood sugar (glucose) level is lower than normal. Glucose is your body's main energy source. Hypoglycemia is often related to diabetes treatment. But other drugs and a variety of conditions â€” many rare â€” can cause low blood sugar in people who don't have diabetes.\"},\n",
       " 'Acne': {'Disease': 'Acne',\n",
       "  'Description': 'Acne vulgaris is the formation of comedones, papules, pustules, nodules, and/or cysts as a result of obstruction and inflammation of pilosebaceous units (hair follicles and their accompanying sebaceous gland). Acne develops on the face and upper trunk. It most often affects adolescents.'},\n",
       " 'Diabetes': {'Disease': 'Diabetes',\n",
       "  'Description': 'Diabetes is a disease that occurs when your blood glucose, also called blood sugar, is too high. Blood glucose is your main source of energy and comes from the food you eat. Insulin, a hormone made by the pancreas, helps glucose from food get into your cells to be used for energy.'},\n",
       " 'Impetigo': {'Disease': 'Impetigo',\n",
       "  'Description': \"Impetigo (im-puh-TIE-go) is a common and highly contagious skin infection that mainly affects infants and children. Impetigo usually appears as red sores on the face, especially around a child's nose and mouth, and on hands and feet. The sores burst and develop honey-colored crusts.\"},\n",
       " 'Hypertension': {'Disease': 'Hypertension',\n",
       "  'Description': 'Hypertension (HTN or HT), also known as high blood pressure (HBP), is a long-term medical condition in which the blood pressure in the arteries is persistently elevated. High blood pressure typically does not cause symptoms.'},\n",
       " 'Peptic ulcer diseae': {'Disease': 'Peptic ulcer diseae',\n",
       "  'Description': 'Peptic ulcer disease (PUD) is a break in the inner lining of the stomach, the first part of the small intestine, or sometimes the lower esophagus. An ulcer in the stomach is called a gastric ulcer, while one in the first part of the intestines is a duodenal ulcer.'},\n",
       " 'Dimorphic hemorrhoids(piles)': {'Disease': 'Dimorphic hemorrhoids(piles)',\n",
       "  'Description': 'Hemorrhoids, also spelled haemorrhoids, are vascular structures in the anal canal. In their ... Other names, Haemorrhoids, piles, hemorrhoidal disease .'},\n",
       " 'Common Cold': {'Disease': 'Common Cold',\n",
       "  'Description': \"The common cold is a viral infection of your nose and throat (upper respiratory tract). It's usually harmless, although it might not feel that way. Many types of viruses can cause a common cold.\"},\n",
       " 'Chicken pox': {'Disease': 'Chicken pox',\n",
       "  'Description': 'Chickenpox is a highly contagious disease caused by the varicella-zoster virus (VZV). It can cause an itchy, blister-like rash. The rash first appears on the chest, back, and face, and then spreads over the entire body, causing between 250 and 500 itchy blisters.'},\n",
       " 'Cervical spondylosis': {'Disease': 'Cervical spondylosis',\n",
       "  'Description': 'Cervical spondylosis is a general term for age-related wear and tear affecting the spinal disks in your neck. As the disks dehydrate and shrink, signs of osteoarthritis develop, including bony projections along the edges of bones (bone spurs).'},\n",
       " 'Hyperthyroidism': {'Disease': 'Hyperthyroidism',\n",
       "  'Description': \"Hyperthyroidism (overactive thyroid) occurs when your thyroid gland produces too much of the hormone thyroxine. Hyperthyroidism can accelerate your body's metabolism, causing unintentional weight loss and a rapid or irregular heartbeat.\"},\n",
       " 'Urinary tract infection': {'Disease': 'Urinary tract infection',\n",
       "  'Description': 'Urinary tract infection: An infection of the kidney, ureter, bladder, or urethra. Abbreviated UTI. Not everyone with a UTI has symptoms, but common symptoms include a frequent urge to urinate and pain or burning when urinating.'},\n",
       " 'Varicose veins': {'Disease': 'Varicose veins',\n",
       "  'Description': 'A vein that has enlarged and twisted, often appearing as a bulging, blue blood vessel that is clearly visible through the skin. Varicose veins are most common in older adults, particularly women, and occur especially on the legs.'},\n",
       " 'AIDS': {'Disease': 'AIDS',\n",
       "  'Description': \"Acquired immunodeficiency syndrome (AIDS) is a chronic, potentially life-threatening condition caused by the human immunodeficiency virus (HIV). By damaging your immune system, HIV interferes with your body's ability to fight infection and disease.\"},\n",
       " 'Paralysis (brain hemorrhage)': {'Disease': 'Paralysis (brain hemorrhage)',\n",
       "  'Description': 'Intracerebral hemorrhage (ICH) is when blood suddenly bursts into brain tissue, causing damage to your brain. Symptoms usually appear suddenly during ICH. They include headache, weakness, confusion, and paralysis, particularly on one side of your body.'},\n",
       " 'Typhoid': {'Disease': 'Typhoid',\n",
       "  'Description': 'An acute illness characterized by fever caused by infection with the bacterium Salmonella typhi. Typhoid fever has an insidious onset, with fever, headache, constipation, malaise, chills, and muscle pain. Diarrhea is uncommon, and vomiting is not usually severe.'},\n",
       " 'Hepatitis B': {'Disease': 'Hepatitis B',\n",
       "  'Description': \"Hepatitis B is an infection of your liver. It can cause scarring of the organ, liver failure, and cancer. It can be fatal if it isn't treated. It's spread when people come in contact with the blood, open sores, or body fluids of someone who has the hepatitis B virus.\"},\n",
       " 'Fungal infection': {'Disease': 'Fungal infection',\n",
       "  'Description': 'In humans, fungal infections occur when an invading fungus takes over an area of the body and is too much for the immune system to handle. Fungi can live in the air, soil, water, and plants. There are also some fungi that live naturally in the human body. Like many microbes, there are helpful fungi and harmful fungi.'},\n",
       " 'Hepatitis C': {'Disease': 'Hepatitis C',\n",
       "  'Description': 'Inflammation of the liver due to the hepatitis C virus (HCV), which is usually spread via blood transfusion (rare), hemodialysis, and needle sticks. The damage hepatitis C does to the liver can lead to cirrhosis and its complications as well as cancer.'},\n",
       " 'Migraine': {'Disease': 'Migraine',\n",
       "  'Description': \"A migraine can cause severe throbbing pain or a pulsing sensation, usually on one side of the head. It's often accompanied by nausea, vomiting, and extreme sensitivity to light and sound. Migraine attacks can last for hours to days, and the pain can be so severe that it interferes with your daily activities.\"},\n",
       " 'Bronchial Asthma': {'Disease': 'Bronchial Asthma',\n",
       "  'Description': 'Bronchial asthma is a medical condition which causes the airway path of the lungs to swell and narrow. Due to this swelling, the air path produces excess mucus making it hard to breathe, which results in coughing, short breath, and wheezing. The disease is chronic and interferes with daily working.'},\n",
       " 'Alcoholic hepatitis': {'Disease': 'Alcoholic hepatitis',\n",
       "  'Description': \"Alcoholic hepatitis is a diseased, inflammatory condition of the liver caused by heavy alcohol consumption over an extended period of time. It's also aggravated by binge drinking and ongoing alcohol use. If you develop this condition, you must stop drinking alcohol\"},\n",
       " 'Jaundice': {'Disease': 'Jaundice',\n",
       "  'Description': 'Yellow staining of the skin and sclerae (the whites of the eyes) by abnormally high blood levels of the bile pigment bilirubin. The yellowing extends to other tissues and body fluids. Jaundice was once called the \"morbus regius\" (the regal disease) in the belief that only the touch of a king could cure it'},\n",
       " 'Hepatitis E': {'Disease': 'Hepatitis E',\n",
       "  'Description': 'A rare form of liver inflammation caused by infection with the hepatitis E virus (HEV). It is transmitted via food or drink handled by an infected person or through infected water supplies in areas where fecal matter may get into the water. Hepatitis E does not cause chronic liver disease.'},\n",
       " 'Dengue': {'Disease': 'Dengue',\n",
       "  'Description': 'an acute infectious disease caused by a flavivirus (species Dengue virus of the genus Flavivirus), transmitted by aedes mosquitoes, and characterized by headache, severe joint pain, and a rash. â€” called also breakbone fever, dengue fever.'},\n",
       " 'Hepatitis D': {'Disease': 'Hepatitis D',\n",
       "  'Description': 'Hepatitis D, also known as the hepatitis delta virus, is an infection that causes the liver to become inflamed. This swelling can impair liver function and cause long-term liver problems, including liver scarring and cancer. The condition is caused by the hepatitis D virus (HDV).'},\n",
       " 'Heart attack': {'Disease': 'Heart attack',\n",
       "  'Description': 'The death of heart muscle due to the loss of blood supply. The loss of blood supply is usually caused by a complete blockage of a coronary artery, one of the arteries that supplies blood to the heart muscle.'},\n",
       " 'Pneumonia': {'Disease': 'Pneumonia',\n",
       "  'Description': 'Pneumonia is an infection in one or both lungs. Bacteria, viruses, and fungi cause it. The infection causes inflammation in the air sacs in your lungs, which are called alveoli. The alveoli fill with fluid or pus, making it difficult to breathe.'},\n",
       " 'Arthritis': {'Disease': 'Arthritis',\n",
       "  'Description': 'Arthritis is the swelling and tenderness of one or more of your joints. The main symptoms of arthritis are joint pain and stiffness, which typically worsen with age. The most common types of arthritis are osteoarthritis and rheumatoid arthritis.'},\n",
       " 'Gastroenteritis': {'Disease': 'Gastroenteritis',\n",
       "  'Description': 'Gastroenteritis is an inflammation of the digestive tract, particularly the stomach, and large and small intestines. Viral and bacterial gastroenteritis are intestinal infections associated with symptoms of diarrhea , abdominal cramps, nausea , and vomiting .'},\n",
       " 'Tuberculosis': {'Disease': 'Tuberculosis',\n",
       "  'Description': 'Tuberculosis (TB) is an infectious disease usually caused by Mycobacterium tuberculosis (MTB) bacteria. Tuberculosis generally affects the lungs, but can also affect other parts of the body. Most infections show no symptoms, in which case it is known as latent tuberculosis.'}}"
      ]
     },
     "execution_count": 17,
     "metadata": {},
     "output_type": "execute_result"
    }
   ],
   "source": [
    "disease_description"
   ]
  },
  {
   "cell_type": "code",
   "execution_count": 18,
   "metadata": {},
   "outputs": [],
   "source": [
    "from collections import defaultdict\n",
    "disease_description_details=defaultdict(list)\n",
    "for disease in disease_description:\n",
    "    disease_description_details[disease.strip()].append(disease_description[disease]['Description'])"
   ]
  },
  {
   "cell_type": "code",
   "execution_count": 21,
   "metadata": {},
   "outputs": [],
   "source": [
    "disease_description_details=dict(disease_description_details)"
   ]
  },
  {
   "cell_type": "code",
   "execution_count": null,
   "metadata": {},
   "outputs": [],
   "source": []
  },
  {
   "cell_type": "code",
   "execution_count": null,
   "metadata": {},
   "outputs": [],
   "source": []
  }
 ],
 "metadata": {
  "kernelspec": {
   "display_name": "Python 3",
   "language": "python",
   "name": "python3"
  },
  "language_info": {
   "codemirror_mode": {
    "name": "ipython",
    "version": 3
   },
   "file_extension": ".py",
   "mimetype": "text/x-python",
   "name": "python",
   "nbconvert_exporter": "python",
   "pygments_lexer": "ipython3",
   "version": "3.8.5"
  }
 },
 "nbformat": 4,
 "nbformat_minor": 4
}
